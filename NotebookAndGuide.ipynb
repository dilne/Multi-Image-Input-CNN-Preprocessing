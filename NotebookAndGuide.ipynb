{
  "nbformat": 4,
  "nbformat_minor": 0,
  "metadata": {
    "colab": {
      "provenance": []
    },
    "kernelspec": {
      "name": "python3",
      "display_name": "Python 3"
    },
    "language_info": {
      "name": "python"
    },
    "gpuClass": "standard"
  },
  "cells": [
    {
      "cell_type": "markdown",
      "source": [
        "# Intro"
      ],
      "metadata": {
        "id": "GDt0XUfTr8nu"
      }
    },
    {
      "cell_type": "markdown",
      "source": [
        "Sometimes, you want multiple images as input to a CNN. This notebook contains easy to use code for preprocessing your images for multi-image input for a CNN. Just configure the \"Variables for editing\" section and run. This notebook will also provide a detailed walkthrough of what you need to know when using multiple images as input to a CNN.\n",
        "\n",
        "The simplest way to use multiple images as input to a CNN is to merge their channels. In this example, we have two images of a cat and two images of a dog. The two cat images are of the same cat taken from the front and side and the dog images are of the same dog taken from the front and side. Each image has a width, height, and channels."
      ],
      "metadata": {
        "id": "smJzv5mguSIo"
      }
    },
    {
      "cell_type": "code",
      "execution_count": null,
      "metadata": {
        "id": "wyjJx9wfDylD"
      },
      "outputs": [],
      "source": [
        "import os\n",
        "import cv2\n",
        "import random\n",
        "import numpy as np\n",
        "import matplotlib.pyplot as plt"
      ]
    },
    {
      "cell_type": "markdown",
      "source": [
        "### Variables for editing\n",
        "These are the only variables you should have to edit.\n",
        "\n",
        "- input_data_dir_0: Set this to be the directory for the first batch of images (e.g cat images)\n",
        "- input_data_dir_1: Set this to be the directory for the second batch of images (e.g dog images)\n",
        "- labels: The labels you want each combined image to have\n",
        "- width: Width you want the images to be resized to\n",
        "- height: Height you want the images to be resized to\n",
        "- channels: Number of channels you want each image to have. If the image is greyscale to begin with, it already has only one channel, so keep this variable as 1. If the channel is a colour image, set this variable to 1 if you want it to be changed to a greyscale image, and 3 if you want to keep it as a colour image."
      ],
      "metadata": {
        "id": "6WhhJb5ouy3C"
      }
    },
    {
      "cell_type": "code",
      "source": [
        "input_data_dir_0 = \"/content/drive/MyDrive/ Multi-Image-Input-CNN-Preprocessing/Data/Cat/\"\n",
        "input_data_dir_1 = \"/content/drive/MyDrive/ Multi-Image-Input-CNN-Preprocessing/Data/Dog/\"\n",
        "# The labels you want each combined image to have\n",
        "labels = [0, 1]\n",
        "names = [\"Cat\", \"Dog\"]\n",
        "width = int(128)\n",
        "height = int(128)\n",
        "# If the image is greyscale already (has one channel), then set this to 1\n",
        "# If the image is RGB (has three channels), and you want it to be greyscale, then set this to 1\n",
        "# If the image is RGB (has three channels), and you want it to remain RGB, then set this to 3\n",
        "channels = 1"
      ],
      "metadata": {
        "id": "G1ROZri_ujiF"
      },
      "execution_count": null,
      "outputs": []
    },
    {
      "cell_type": "code",
      "source": [
        "image_size = (width, height)"
      ],
      "metadata": {
        "id": "S3syDT4QwxYI"
      },
      "execution_count": null,
      "outputs": []
    },
    {
      "cell_type": "markdown",
      "source": [
        "## Merge the Images"
      ],
      "metadata": {
        "id": "tZGABVJ3siev"
      }
    },
    {
      "cell_type": "markdown",
      "source": [
        "This code will run through each input directory and preprocess the images. It will combine two images that are next to eachother into one. Because of this, it's important to follow this filenaming system:\n",
        "The files should be named so that they appear next to eachother in an alphabetically sorted list. One way to do this is to follow the naming system given in the example files. One corresponding set of images has the same number (e.g \"0001\") and is followed by \"Front\" or \"Rear\". Therefore, the example files are named \"Cat_0001_Front\" and \"Cat_0001_Rear\"."
      ],
      "metadata": {
        "id": "chYUZuKS4x_m"
      }
    },
    {
      "cell_type": "code",
      "source": [
        "X = []\n",
        "y = []\n",
        "extension = [\".png\", \".jpg\", \".jpeg\"]\n",
        "\n",
        "i = 0\n",
        "data_dir = input_data_dir_0\n",
        "for fname in sorted(os.listdir(data_dir)):\n",
        "    if any(fname.endswith(ext) for ext in extension) and not fname.startswith(\".\"):\n",
        "        i += 1\n",
        "        if (i % 2) != 0:\n",
        "            path = os.path.join(data_dir, fname)\n",
        "            if channels == 1:\n",
        "                feature_f = cv2.imread(path, cv2.IMREAD_GRAYSCALE)\n",
        "            elif channels == 3:\n",
        "                feature_f = cv2.imread(path, cv2.IMREAD_COLOR)\n",
        "            feature_f = cv2.resize(feature_f, (width, height))\n",
        "\n",
        "        if i == 0: print(f\"feature_f.shape: {feature_f.shape}\")\n",
        "        else:\n",
        "            path = os.path.join(data_dir, fname)\n",
        "            if channels == 1:\n",
        "                feature_r = cv2.imread(path, cv2.IMREAD_GRAYSCALE)\n",
        "            elif channels == 3:\n",
        "                feature_r = cv2.imread(path, cv2.IMREAD_COLOR)\n",
        "            feature_r = cv2.resize(feature_r, (width, height))\n",
        "\n",
        "            if len(feature_f.shape) == 2: # if there are only two dimensions because channels = 1\n",
        "                feature = np.zeros((width, height, 2))\n",
        "                feature [:,:,0] = feature_f\n",
        "                feature [:,:,1] = feature_r\n",
        "            elif feature_f.shape[2] == 3:\n",
        "                feature = np.zeros((width, height, 6))\n",
        "                feature [:,:,0] = feature_f[:,:,0]\n",
        "                feature [:,:,1] = feature_f[:,:,1]\n",
        "                feature [:,:,2] = feature_f[:,:,2]\n",
        "                feature [:,:,3] = feature_r[:,:,0]\n",
        "                feature [:,:,4] = feature_r[:,:,1]\n",
        "                feature [:,:,5] = feature_r[:,:,2]\n",
        "            if i == 1: print(f\"feature.shape: {feature.shape}\")\n",
        "            X.append(feature)\n",
        "            y.append(labels[0])\n",
        "\n",
        "i = 0\n",
        "data_dir = input_data_dir_1\n",
        "for fname in sorted(os.listdir(data_dir)):\n",
        "    if any(fname.endswith(ext) for ext in extension) and not fname.startswith(\".\"):\n",
        "        i += 1\n",
        "        if (i % 2) != 0:\n",
        "            path = os.path.join(data_dir, fname)\n",
        "            if channels == 1:\n",
        "                feature_f = cv2.imread(path, cv2.IMREAD_GRAYSCALE)\n",
        "            elif channels == 3:\n",
        "                feature_f = cv2.imread(path, cv2.IMREAD_COLOR)\n",
        "            feature_f = cv2.resize(feature_f, (width, height))\n",
        "\n",
        "        if i == 0: print(f\"feature_f.shape: {feature_f.shape}\")\n",
        "        else:\n",
        "            path = os.path.join(data_dir, fname)\n",
        "            if channels == 1:\n",
        "                feature_r = cv2.imread(path, cv2.IMREAD_GRAYSCALE)\n",
        "            elif channels == 3:\n",
        "                feature_r = cv2.imread(path, cv2.IMREAD_COLOR)\n",
        "            feature_r = cv2.resize(feature_r, (width, height))\n",
        "\n",
        "            if len(feature_f.shape) == 2: # if there are only two dimensions because channels = 1\n",
        "                feature = np.zeros((width, height, 2))\n",
        "                feature [:,:,0] = feature_f\n",
        "                feature [:,:,1] = feature_r\n",
        "            elif feature_f.shape[2] == 3:\n",
        "                feature = np.zeros((width, height, 6))\n",
        "                feature [:,:,0] = feature_f[:,:,0]\n",
        "                feature [:,:,1] = feature_f[:,:,1]\n",
        "                feature [:,:,2] = feature_f[:,:,2]\n",
        "                feature [:,:,3] = feature_r[:,:,0]\n",
        "                feature [:,:,4] = feature_r[:,:,1]\n",
        "                feature [:,:,5] = feature_r[:,:,2]\n",
        "            if i == 1: print(f\"feature.shape: {feature.shape}\")\n",
        "            X.append(feature)\n",
        "            y.append(labels[1])"
      ],
      "metadata": {
        "id": "dJygS8TGSWuw",
        "colab": {
          "base_uri": "https://localhost:8080/"
        },
        "outputId": "f83368b7-2daa-4ff2-f1dd-2b236022cd1c"
      },
      "execution_count": null,
      "outputs": [
        {
          "output_type": "stream",
          "name": "stdout",
          "text": [
            "feature.shape: (128, 128, 2)\n",
            "feature.shape: (128, 128, 2)\n"
          ]
        }
      ]
    },
    {
      "cell_type": "code",
      "source": [
        "X = np.array(X)\n",
        "y = np.array(y)\n",
        "X = X.astype('float32') / 255.\n",
        "y = y.astype('int')"
      ],
      "metadata": {
        "id": "r_kNi7Vfh2IY"
      },
      "execution_count": null,
      "outputs": []
    },
    {
      "cell_type": "code",
      "source": [
        "print(\"X:\")\n",
        "print(\"Samples: {}, Type: {}, Shape: {}, Min: {}, Max: {}\".format(len(X), X.dtype, X[0].shape, X.min(), X.max()))\n",
        "print()\n",
        "print(\"Y:\")\n",
        "print(\"Samples: {}, Type: {}\".format(len(y), y.dtype))"
      ],
      "metadata": {
        "colab": {
          "base_uri": "https://localhost:8080/"
        },
        "id": "6xdI3u3-To4B",
        "outputId": "958bcd07-796e-4323-b32a-c939ccb5deed"
      },
      "execution_count": null,
      "outputs": [
        {
          "output_type": "stream",
          "name": "stdout",
          "text": [
            "X:\n",
            "Samples: 4, Type: float32, Shape: (128, 128, 2), Min: 0.0, Max: 1.0\n",
            "\n",
            "Y:\n",
            "Samples: 4, Type: int64\n"
          ]
        }
      ]
    },
    {
      "cell_type": "markdown",
      "source": [
        "## Display Images\n",
        "Coming next"
      ],
      "metadata": {
        "id": "CjOor4a3Dg1F"
      }
    }
  ]
}